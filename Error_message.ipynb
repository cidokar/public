{
 "cells": [
  {
   "cell_type": "markdown",
   "id": "af84d6c6",
   "metadata": {},
   "source": [
    "**I can not access IBM cloud, I get this error.**"
   ]
  },
  {
   "cell_type": "markdown",
   "id": "c99539dc",
   "metadata": {},
   "source": [
    "<img src=\"Error.png\"/>"
   ]
  },
  {
   "cell_type": "markdown",
   "id": "f2ffaf64",
   "metadata": {},
   "source": [
    "**Without my account I can not get my credentials needed to connect to the database**"
   ]
  },
  {
   "cell_type": "markdown",
   "id": "fe19db9a",
   "metadata": {},
   "source": [
    "verify@us.ibm.com has never answered my emails <br>\n",
    "I have tryed anything during the last 2 day but did can not find a solution."
   ]
  },
  {
   "cell_type": "markdown",
   "id": "f3abac07",
   "metadata": {},
   "source": [
    "**Can you please accept to validate my work ?**"
   ]
  },
  {
   "cell_type": "markdown",
   "id": "ee93e95e",
   "metadata": {},
   "source": [
    "*I relly need to pass this course for tomorow or I will have to do an pay another entire semester in my university.*"
   ]
  },
  {
   "cell_type": "code",
   "execution_count": null,
   "id": "72904f45",
   "metadata": {},
   "outputs": [],
   "source": []
  }
 ],
 "metadata": {
  "kernelspec": {
   "display_name": "Python 3 (ipykernel)",
   "language": "python",
   "name": "python3"
  },
  "language_info": {
   "codemirror_mode": {
    "name": "ipython",
    "version": 3
   },
   "file_extension": ".py",
   "mimetype": "text/x-python",
   "name": "python",
   "nbconvert_exporter": "python",
   "pygments_lexer": "ipython3",
   "version": "3.7.4"
  }
 },
 "nbformat": 4,
 "nbformat_minor": 5
}
