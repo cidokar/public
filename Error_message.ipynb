{
 "cells": [
  {
   "cell_type": "markdown",
   "id": "d3a9c5ec",
   "metadata": {},
   "source": [
    "**I can not access IBM cloud, I get this error.**"
   ]
  },
  {
   "cell_type": "markdown",
   "id": "27a2cc73",
   "metadata": {},
   "source": [
    "<img src=\"Error.png\"/>"
   ]
  },
  {
   "cell_type": "markdown",
   "id": "40843632",
   "metadata": {},
   "source": [
    "verify@us.ibm.com has never answered my emails <br>\n",
    "I have tryed anything during the last 2 day but did can not find a solution."
   ]
  },
  {
   "cell_type": "markdown",
   "id": "6d8b6bd4",
   "metadata": {},
   "source": [
    "Can you please accept to validate my work."
   ]
  },
  {
   "cell_type": "markdown",
   "id": "d321daad",
   "metadata": {},
   "source": [
    "*I relly need to pass this course for tomorow or I will have to do an pay another entire semester in my university.*"
   ]
  },
  {
   "cell_type": "code",
   "execution_count": null,
   "id": "4a2aa81c",
   "metadata": {},
   "outputs": [],
   "source": []
  }
 ],
 "metadata": {
  "kernelspec": {
   "display_name": "Python 3 (ipykernel)",
   "language": "python",
   "name": "python3"
  },
  "language_info": {
   "codemirror_mode": {
    "name": "ipython",
    "version": 3
   },
   "file_extension": ".py",
   "mimetype": "text/x-python",
   "name": "python",
   "nbconvert_exporter": "python",
   "pygments_lexer": "ipython3",
   "version": "3.7.4"
  }
 },
 "nbformat": 4,
 "nbformat_minor": 5
}
