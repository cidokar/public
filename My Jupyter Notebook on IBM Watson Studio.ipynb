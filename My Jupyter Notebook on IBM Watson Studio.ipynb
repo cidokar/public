{
 "cells": [
  {
   "cell_type": "markdown",
   "id": "dd4fd95a",
   "metadata": {},
   "source": [
    "# My Jupyter Notebook on IBM Watson Studio"
   ]
  },
  {
   "cell_type": "markdown",
   "id": "2775e164",
   "metadata": {},
   "source": [
    "**Quentin** <br>",
    "data scientist"
   ]
  },
  {
   "cell_type": "markdown",
   "id": "4e5ef3c6",
   "metadata": {},
   "source": [
    "*I am interested in data science because I like computer science, statistics and getting to know new subjects*"
   ]
  },
  {
   "cell_type": "markdown",
   "id": "5a0c2b98",
   "metadata": {},
   "source": [
    "### My code is supposed to define and execute a function that says: \n",
    "### \"Hello, can you please accept to validate this even if it is not on Watson ?\n",
    "### I can't find a way to create my account\n",
    "### Thanks !\""
   ]
  },
  {
   "cell_type": "code",
   "execution_count": 1,
   "id": "ce9685b4",
   "metadata": {},
   "outputs": [
    {
     "name": "stdout",
     "output_type": "stream",
     "text": [
      "Hello, can you please accept to validate this even if it is not on Watson ?\n",
      "I can't find a way to create my account\n",
      "Thanks !\n"
     ]
    }
   ],
   "source": [
    "def please():\n",
    "    print(\"Hello, can you please accept to validate this even if it is not on Watson ?\\nI can't find a way to create my account\\nThanks !\")\n",
    "please()"
   ]
  },
  {
   "cell_type": "markdown",
   "id": "8990665b",
   "metadata": {},
   "source": [
    "* ~~This was mistaken text~~\n",
    "* This is a random item\n",
    "\n",
    "1. Item\n",
    "2. Item\n",
    "\n",
    "> ps : I have nothing to say"
   ]
  },
  {
   "cell_type": "code",
   "execution_count": null,
   "id": "a0268b84",
   "metadata": {},
   "outputs": [],
   "source": []
  }
 ],
 "metadata": {
  "kernelspec": {
   "display_name": "Python 3 (ipykernel)",
   "language": "python",
   "name": "python3"
  },
  "language_info": {
   "codemirror_mode": {
    "name": "ipython",
    "version": 3
   },
   "file_extension": ".py",
   "mimetype": "text/x-python",
   "name": "python",
   "nbconvert_exporter": "python",
   "pygments_lexer": "ipython3",
   "version": "3.7.4"
  }
 },
 "nbformat": 4,
 "nbformat_minor": 5
}
